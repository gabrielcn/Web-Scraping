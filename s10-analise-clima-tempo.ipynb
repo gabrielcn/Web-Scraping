{
 "cells": [
  {
   "cell_type": "markdown",
   "metadata": {
    "_cell_guid": "b1076dfc-b9ad-4769-8c92-a6c4dae69d19",
    "_uuid": "8f2839f25d086af736a60e9eeb907d3b93b6e0e5"
   },
   "source": [
    "# Análise Clima-Tempo"
   ]
  },
  {
   "cell_type": "markdown",
   "metadata": {},
   "source": [
    "#### Semana 10 | Web Scraping, Regex e Pandas"
   ]
  },
  {
   "cell_type": "markdown",
   "metadata": {},
   "source": [
    "## Objetivo do miniprojeto"
   ]
  },
  {
   "cell_type": "markdown",
   "metadata": {},
   "source": [
    "A partir de sua escolha de uma cidade qualquer, faça a raspagem de uma página e descubra a temperatura média da próxima semana nesta cidade. Utilize o serviço [Tempo](https://www.tempo.com/) na sua solução. (Desejável incluir gráficos do Plotly)."
   ]
  },
  {
   "cell_type": "markdown",
   "metadata": {},
   "source": [
    "## Projeto-piloto"
   ]
  },
  {
   "cell_type": "markdown",
   "metadata": {},
   "source": [
    "Aqui, importamos as bibliotecas que utilizaremos para fazer a raspagem e análise de dados."
   ]
  },
  {
   "cell_type": "code",
   "execution_count": 1,
   "metadata": {},
   "outputs": [],
   "source": [
    "# Vai até o servidor e pega uma página HTML (ou outra)\n",
    "import requests\n",
    "\n",
    "# Manipula a página HTML\n",
    "from bs4 import BeautifulSoup\n",
    "\n",
    "# Faz a limpeza e mostra as informações\n",
    "import pandas as pd\n",
    "\n",
    "# Faz a manipulação numérica\n",
    "import numpy as np\n",
    "\n",
    "# Cria gŕaficos\n",
    "import plotly.express as px"
   ]
  },
  {
   "cell_type": "markdown",
   "metadata": {},
   "source": [
    "**Seleção do serviço de clima-tempo**"
   ]
  },
  {
   "cell_type": "markdown",
   "metadata": {},
   "source": [
    "Apenas para a ilustração dos passos, vamos fazer a raspagem do [National Weather Service](https://forecast.weather.gov/), um serviço de climatologia norte-americano.\n",
    "\n",
    "\n",
    "> **Para que estes passos sejam aplicáveis, é importante verificar se o serviço de clima-tempo apresenta as informações utilizando HTML ou Javascript. Estes passos só servem para respostas em HTML.**"
   ]
  },
  {
   "cell_type": "code",
   "execution_count": 2,
   "metadata": {},
   "outputs": [],
   "source": [
    "# Localizamos uma cidade usando o próprio serviço de clima-tempo\n",
    "url = \"https://forecast.weather.gov/MapClick.php?lat=31.604&lon=-106.2511#.XoOR725v9PU\""
   ]
  },
  {
   "cell_type": "markdown",
   "metadata": {},
   "source": [
    "Download da página. Uma resposta $200$ indica que o retorno da página foi bem-sucedido. "
   ]
  },
  {
   "cell_type": "code",
   "execution_count": 3,
   "metadata": {},
   "outputs": [
    {
     "data": {
      "text/plain": [
       "<Response [200]>"
      ]
     },
     "execution_count": 3,
     "metadata": {},
     "output_type": "execute_result"
    }
   ],
   "source": [
    "# usamos a biblioteca requests para fazer o download da página web\n",
    "page = requests.get( url )\n",
    "page"
   ]
  },
  {
   "cell_type": "markdown",
   "metadata": {},
   "source": [
    "A biblioteca `BeautifulSoup` permite que manipulemos o HTML da página. "
   ]
  },
  {
   "cell_type": "code",
   "execution_count": 5,
   "metadata": {},
   "outputs": [],
   "source": [
    "# criamos um objeto beautiful soup para poder fazer a raspagem dos dados\n",
    "soup = BeautifulSoup(page.content, 'html.parser')\n",
    "#soup\n",
    "#print(soup.prettify())"
   ]
  },
  {
   "cell_type": "markdown",
   "metadata": {},
   "source": [
    "Utilizando o modo de inspeção do navegador (ex: Chrome, Firefox, Safari...), identifique o elemento HTML em que deseja extrair as informações."
   ]
  },
  {
   "cell_type": "code",
   "execution_count": 7,
   "metadata": {},
   "outputs": [],
   "source": [
    "# após investigar, com um navegador web, a estrutura da página e localizar o elemento HTML que queremos, aplicamos o comando\n",
    "seven_day = soup.find(id=\"seven-day-forecast\")\n",
    "#seven_day"
   ]
  },
  {
   "cell_type": "markdown",
   "metadata": {},
   "source": [
    "Dentro do elemento HTML `seven-day-forecast`, pegamos todos os elementos da classe `tombstone-container`."
   ]
  },
  {
   "cell_type": "code",
   "execution_count": 9,
   "metadata": {},
   "outputs": [],
   "source": [
    "forecast_items = seven_day.find_all(class_=\"tombstone-container\")\n",
    "#forecast_items"
   ]
  },
  {
   "cell_type": "markdown",
   "metadata": {},
   "source": [
    "O primeiro elemento da lista `forecast_items` representa a manhã de hoje."
   ]
  },
  {
   "cell_type": "code",
   "execution_count": 10,
   "metadata": {},
   "outputs": [
    {
     "data": {
      "text/plain": [
       "<div class=\"tombstone-container\">\n",
       "<p class=\"period-name\">Today<br/><br/></p>\n",
       "<p><img alt=\"Today: Sunny, with a high near 95. East southeast wind 7 to 15 mph becoming west northwest in the morning. Winds could gust as high as 22 mph. \" class=\"forecast-icon\" src=\"newimages/medium/few.png\" title=\"Today: Sunny, with a high near 95. East southeast wind 7 to 15 mph becoming west northwest in the morning. Winds could gust as high as 22 mph. \"/></p><p class=\"short-desc\">Sunny</p><p class=\"temp temp-high\">High: 95 °F</p></div>"
      ]
     },
     "execution_count": 10,
     "metadata": {},
     "output_type": "execute_result"
    }
   ],
   "source": [
    "morning = forecast_items[0]\n",
    "morning"
   ]
  },
  {
   "cell_type": "code",
   "execution_count": 11,
   "metadata": {},
   "outputs": [
    {
     "name": "stdout",
     "output_type": "stream",
     "text": [
      "<div class=\"tombstone-container\">\n",
      " <p class=\"period-name\">\n",
      "  Today\n",
      "  <br/>\n",
      "  <br/>\n",
      " </p>\n",
      " <p>\n",
      "  <img alt=\"Today: Sunny, with a high near 95. East southeast wind 7 to 15 mph becoming west northwest in the morning. Winds could gust as high as 22 mph. \" class=\"forecast-icon\" src=\"newimages/medium/few.png\" title=\"Today: Sunny, with a high near 95. East southeast wind 7 to 15 mph becoming west northwest in the morning. Winds could gust as high as 22 mph. \"/>\n",
      " </p>\n",
      " <p class=\"short-desc\">\n",
      "  Sunny\n",
      " </p>\n",
      " <p class=\"temp temp-high\">\n",
      "  High: 95 °F\n",
      " </p>\n",
      "</div>\n"
     ]
    }
   ],
   "source": [
    "# Impressão na tela formatado\n",
    "print(morning.prettify())"
   ]
  },
  {
   "cell_type": "markdown",
   "metadata": {},
   "source": [
    "O segundo elemento da lista `forecast_items` representa o próximo período."
   ]
  },
  {
   "cell_type": "code",
   "execution_count": 12,
   "metadata": {},
   "outputs": [
    {
     "name": "stdout",
     "output_type": "stream",
     "text": [
      "<div class=\"tombstone-container\">\n",
      " <p class=\"period-name\">\n",
      "  Tonight\n",
      "  <br/>\n",
      "  <br/>\n",
      " </p>\n",
      " <p>\n",
      "  <img alt=\"Tonight: Partly cloudy, with a low around 62. West southwest wind 9 to 14 mph becoming east in the evening. Winds could gust as high as 21 mph. \" class=\"forecast-icon\" src=\"newimages/medium/nsct.png\" title=\"Tonight: Partly cloudy, with a low around 62. West southwest wind 9 to 14 mph becoming east in the evening. Winds could gust as high as 21 mph. \"/>\n",
      " </p>\n",
      " <p class=\"short-desc\">\n",
      "  Partly Cloudy\n",
      " </p>\n",
      " <p class=\"temp temp-low\">\n",
      "  Low: 62 °F\n",
      " </p>\n",
      "</div>\n"
     ]
    }
   ],
   "source": [
    "afternoon = forecast_items[1]\n",
    "print(afternoon.prettify())"
   ]
  },
  {
   "cell_type": "markdown",
   "metadata": {},
   "source": [
    "**Extraindo informações da página**"
   ]
  },
  {
   "cell_type": "markdown",
   "metadata": {},
   "source": [
    "A etiqueta representada pela variável `morning` contém toda a informação de que precisamos:\n",
    "\n",
    "- O nome do item da previsão - neste caso, Morning\n",
    "\n",
    "- A descrição das condições - está localizado no título da propriedade de img\n",
    "\n",
    "- Uma descrição breve das condições - neste caso Patchy Blowing Dust then Cloudy\n",
    "\n",
    "- A temperatura mínima - neste caso 81 °F"
   ]
  },
  {
   "cell_type": "code",
   "execution_count": null,
   "metadata": {},
   "outputs": [],
   "source": [
    "morning"
   ]
  },
  {
   "cell_type": "code",
   "execution_count": null,
   "metadata": {},
   "outputs": [],
   "source": [
    "#morning.find(class_=\"period-name\").get_text()"
   ]
  },
  {
   "cell_type": "code",
   "execution_count": 13,
   "metadata": {},
   "outputs": [
    {
     "data": {
      "text/plain": [
       "'Today'"
      ]
     },
     "execution_count": 13,
     "metadata": {},
     "output_type": "execute_result"
    }
   ],
   "source": [
    "period = morning.find(class_=\"period-name\").get_text()\n",
    "period"
   ]
  },
  {
   "cell_type": "code",
   "execution_count": 14,
   "metadata": {},
   "outputs": [
    {
     "data": {
      "text/plain": [
       "'Sunny'"
      ]
     },
     "execution_count": 14,
     "metadata": {},
     "output_type": "execute_result"
    }
   ],
   "source": [
    "short_desc = morning.find(class_=\"short-desc\").get_text()\n",
    "short_desc"
   ]
  },
  {
   "cell_type": "code",
   "execution_count": 15,
   "metadata": {},
   "outputs": [
    {
     "data": {
      "text/plain": [
       "'High: 95 °F'"
      ]
     },
     "execution_count": 15,
     "metadata": {},
     "output_type": "execute_result"
    }
   ],
   "source": [
    "temp = morning.find(class_=\"temp\").get_text()\n",
    "temp"
   ]
  },
  {
   "cell_type": "markdown",
   "metadata": {},
   "source": [
    "Uma opção seria pegar as informações contidas na tag `<img>`."
   ]
  },
  {
   "cell_type": "code",
   "execution_count": 16,
   "metadata": {},
   "outputs": [
    {
     "data": {
      "text/plain": [
       "<img alt=\"Today: Sunny, with a high near 95. East southeast wind 7 to 15 mph becoming west northwest in the morning. Winds could gust as high as 22 mph. \" class=\"forecast-icon\" src=\"newimages/medium/few.png\" title=\"Today: Sunny, with a high near 95. East southeast wind 7 to 15 mph becoming west northwest in the morning. Winds could gust as high as 22 mph. \"/>"
      ]
     },
     "execution_count": 16,
     "metadata": {},
     "output_type": "execute_result"
    }
   ],
   "source": [
    "img = morning.find(\"img\")\n",
    "img"
   ]
  },
  {
   "cell_type": "code",
   "execution_count": 17,
   "metadata": {},
   "outputs": [
    {
     "data": {
      "text/plain": [
       "'Today: Sunny, with a high near 95. East southeast wind 7 to 15 mph becoming west northwest in the morning. Winds could gust as high as 22 mph. '"
      ]
     },
     "execution_count": 17,
     "metadata": {},
     "output_type": "execute_result"
    }
   ],
   "source": [
    "# Obtem o título (title) da descrição da img\n",
    "desc = img['title']\n",
    "desc"
   ]
  },
  {
   "cell_type": "markdown",
   "metadata": {},
   "source": [
    "**Extraindo toda a informação da página**"
   ]
  },
  {
   "cell_type": "markdown",
   "metadata": {},
   "source": [
    "Agora que sabemos como extrair a informação de um elemento, vamos obter todos os outros."
   ]
  },
  {
   "cell_type": "code",
   "execution_count": null,
   "metadata": {},
   "outputs": [],
   "source": [
    "seven_day"
   ]
  },
  {
   "cell_type": "markdown",
   "metadata": {},
   "source": [
    "```html\n",
    "<div class=\"tombstone-container\">\n",
    "    <p class=\"period-name\">\n",
    "        \n",
    "    </p>\n",
    "</div>\n",
    "<div class=\"tombstone-container\">\n",
    "    <p class=\"period-name\">\n",
    "        \n",
    "    </p>\n",
    "</div>\n",
    "<div class=\"tombstone-container\">\n",
    "    <p class=\"period-name\">\n",
    "        \n",
    "    </p>\n",
    "</div>\n",
    "```"
   ]
  },
  {
   "cell_type": "code",
   "execution_count": 18,
   "metadata": {},
   "outputs": [
    {
     "data": {
      "text/plain": [
       "[<p class=\"period-name\">Today<br/><br/></p>,\n",
       " <p class=\"period-name\">Tonight<br/><br/></p>,\n",
       " <p class=\"period-name\">Wednesday<br/><br/></p>,\n",
       " <p class=\"period-name\">Wednesday<br/>Night</p>,\n",
       " <p class=\"period-name\">Thursday<br/><br/></p>,\n",
       " <p class=\"period-name\">Thursday<br/>Night</p>,\n",
       " <p class=\"period-name\">Friday<br/><br/></p>,\n",
       " <p class=\"period-name\">Friday<br/>Night</p>,\n",
       " <p class=\"period-name\">Saturday<br/><br/></p>]"
      ]
     },
     "execution_count": 18,
     "metadata": {},
     "output_type": "execute_result"
    }
   ],
   "source": [
    "seven_day.select(\".tombstone-container .period-name\")"
   ]
  },
  {
   "cell_type": "code",
   "execution_count": 22,
   "metadata": {},
   "outputs": [
    {
     "data": {
      "text/plain": [
       "['Today',\n",
       " 'Tonight',\n",
       " 'Wednesday',\n",
       " 'WednesdayNight',\n",
       " 'Thursday',\n",
       " 'ThursdayNight',\n",
       " 'Friday',\n",
       " 'FridayNight',\n",
       " 'Saturday']"
      ]
     },
     "execution_count": 22,
     "metadata": {},
     "output_type": "execute_result"
    }
   ],
   "source": [
    "# Usa o seletor CSS para extrair todos os period-name dentro de tombstone-container\n",
    "period_tags = seven_day.select(\".tombstone-container .period-name\")\n",
    "\n",
    "# Usando list comprehensions (não vimos ainda)\n",
    "# periods = [pt.get_text() for pt in period_tags]\n",
    "\n",
    "periods = []\n",
    "for pt in period_tags:\n",
    "    periods.append(pt.get_text())\n",
    "periods"
   ]
  },
  {
   "cell_type": "markdown",
   "metadata": {},
   "source": [
    "Vamos usar a mesma técnica para os outros três campos."
   ]
  },
  {
   "cell_type": "code",
   "execution_count": 23,
   "metadata": {},
   "outputs": [
    {
     "data": {
      "text/plain": [
       "['Sunny',\n",
       " 'Partly Cloudy',\n",
       " 'Sunny thenPatchyBlowing Dust',\n",
       " 'Partly Cloudy',\n",
       " 'Partly Sunny',\n",
       " 'Clear',\n",
       " 'Sunny',\n",
       " 'Clear',\n",
       " 'Sunny']"
      ]
     },
     "execution_count": 23,
     "metadata": {},
     "output_type": "execute_result"
    }
   ],
   "source": [
    "# Usando list comprehensions (não vimos ainda)\n",
    "#short_descs = [sd.get_text() for sd in seven_day.select(\".tombstone-container .short-desc\")]\n",
    "\n",
    "short_descs_tags = seven_day.select(\".tombstone-container .short-desc\")\n",
    "short_descs = []\n",
    "for sd in short_descs_tags:\n",
    "    short_descs.append(sd.get_text())\n",
    "short_descs"
   ]
  },
  {
   "cell_type": "code",
   "execution_count": 24,
   "metadata": {},
   "outputs": [
    {
     "data": {
      "text/plain": [
       "['High: 95 °F',\n",
       " 'Low: 62 °F',\n",
       " 'High: 99 °F',\n",
       " 'Low: 58 °F',\n",
       " 'High: 92 °F',\n",
       " 'Low: 53 °F',\n",
       " 'High: 94 °F',\n",
       " 'Low: 52 °F',\n",
       " 'High: 96 °F']"
      ]
     },
     "execution_count": 24,
     "metadata": {},
     "output_type": "execute_result"
    }
   ],
   "source": [
    "# Usando list comprehensions (não vimos ainda)\n",
    "# temps = [t.get_text() for t in seven_day.select(\".tombstone-container .temp\")]\n",
    "\n",
    "temps_tags = seven_day.select(\".tombstone-container .temp\")\n",
    "temps = [] \n",
    "for tp in temps_tags:\n",
    "    temps.append(tp.get_text())\n",
    "temps"
   ]
  },
  {
   "cell_type": "code",
   "execution_count": 25,
   "metadata": {},
   "outputs": [
    {
     "data": {
      "text/plain": [
       "['Today: Sunny, with a high near 95. East southeast wind 7 to 15 mph becoming west northwest in the morning. Winds could gust as high as 22 mph. ',\n",
       " 'Tonight: Partly cloudy, with a low around 62. West southwest wind 9 to 14 mph becoming east in the evening. Winds could gust as high as 21 mph. ',\n",
       " 'Wednesday: Patchy blowing dust after noon. Sunny, with a high near 99. East southeast wind 7 to 12 mph becoming southwest 15 to 20 mph in the afternoon. Winds could gust as high as 30 mph. ',\n",
       " 'Wednesday Night: Partly cloudy, with a low around 58. South southwest wind 13 to 18 mph decreasing to 6 to 11 mph after midnight. Winds could gust as high as 28 mph. ',\n",
       " 'Thursday: Partly sunny, with a high near 92. West wind 6 to 13 mph. ',\n",
       " 'Thursday Night: Clear, with a low around 53. West wind 6 to 11 mph becoming south after midnight. ',\n",
       " 'Friday: Sunny, with a high near 94. West northwest wind 7 to 11 mph. ',\n",
       " 'Friday Night: Clear, with a low around 52. West wind 7 to 11 mph. ',\n",
       " 'Saturday: Sunny, with a high near 96. Southwest wind 7 to 10 mph becoming northwest in the morning. ']"
      ]
     },
     "execution_count": 25,
     "metadata": {},
     "output_type": "execute_result"
    }
   ],
   "source": [
    "# Usando list comprehensions (não vimos ainda)\n",
    "# descs = [d[\"title\"] for d in seven_day.select(\".tombstone-container img\")]\n",
    "\n",
    "descs_tags = seven_day.select(\".tombstone-container img\")\n",
    "descs = []\n",
    "for d in descs_tags:\n",
    "    descs.append(d['title'])\n",
    "descs"
   ]
  },
  {
   "cell_type": "markdown",
   "metadata": {},
   "source": [
    "#### Pandas"
   ]
  },
  {
   "cell_type": "markdown",
   "metadata": {},
   "source": [
    "Um DataFrame é um objeto que pode armazenar dados tabulares, facilitando a análise. \n",
    "\n",
    "Vamos instanciar uma classe DataFrame e passar a lista de itens que temos. Vamos passar como parte de um dicionário. Cada chave do dicionário irá virar uma coluna no DataFrame e os elementos da lista irão se tornar os valores das colunas."
   ]
  },
  {
   "cell_type": "code",
   "execution_count": 26,
   "metadata": {},
   "outputs": [
    {
     "data": {
      "text/html": [
       "<div>\n",
       "<style scoped>\n",
       "    .dataframe tbody tr th:only-of-type {\n",
       "        vertical-align: middle;\n",
       "    }\n",
       "\n",
       "    .dataframe tbody tr th {\n",
       "        vertical-align: top;\n",
       "    }\n",
       "\n",
       "    .dataframe thead th {\n",
       "        text-align: right;\n",
       "    }\n",
       "</style>\n",
       "<table border=\"1\" class=\"dataframe\">\n",
       "  <thead>\n",
       "    <tr style=\"text-align: right;\">\n",
       "      <th></th>\n",
       "      <th>Período</th>\n",
       "      <th>Minidescrição</th>\n",
       "      <th>Temperatura</th>\n",
       "      <th>Descrição</th>\n",
       "    </tr>\n",
       "  </thead>\n",
       "  <tbody>\n",
       "    <tr>\n",
       "      <th>0</th>\n",
       "      <td>Today</td>\n",
       "      <td>Sunny</td>\n",
       "      <td>High: 95 °F</td>\n",
       "      <td>Today: Sunny, with a high near 95. East southe...</td>\n",
       "    </tr>\n",
       "    <tr>\n",
       "      <th>1</th>\n",
       "      <td>Tonight</td>\n",
       "      <td>Partly Cloudy</td>\n",
       "      <td>Low: 62 °F</td>\n",
       "      <td>Tonight: Partly cloudy, with a low around 62. ...</td>\n",
       "    </tr>\n",
       "    <tr>\n",
       "      <th>2</th>\n",
       "      <td>Wednesday</td>\n",
       "      <td>Sunny thenPatchyBlowing Dust</td>\n",
       "      <td>High: 99 °F</td>\n",
       "      <td>Wednesday: Patchy blowing dust after noon. Sun...</td>\n",
       "    </tr>\n",
       "    <tr>\n",
       "      <th>3</th>\n",
       "      <td>WednesdayNight</td>\n",
       "      <td>Partly Cloudy</td>\n",
       "      <td>Low: 58 °F</td>\n",
       "      <td>Wednesday Night: Partly cloudy, with a low aro...</td>\n",
       "    </tr>\n",
       "    <tr>\n",
       "      <th>4</th>\n",
       "      <td>Thursday</td>\n",
       "      <td>Partly Sunny</td>\n",
       "      <td>High: 92 °F</td>\n",
       "      <td>Thursday: Partly sunny, with a high near 92. W...</td>\n",
       "    </tr>\n",
       "    <tr>\n",
       "      <th>5</th>\n",
       "      <td>ThursdayNight</td>\n",
       "      <td>Clear</td>\n",
       "      <td>Low: 53 °F</td>\n",
       "      <td>Thursday Night: Clear, with a low around 53. W...</td>\n",
       "    </tr>\n",
       "    <tr>\n",
       "      <th>6</th>\n",
       "      <td>Friday</td>\n",
       "      <td>Sunny</td>\n",
       "      <td>High: 94 °F</td>\n",
       "      <td>Friday: Sunny, with a high near 94. West north...</td>\n",
       "    </tr>\n",
       "    <tr>\n",
       "      <th>7</th>\n",
       "      <td>FridayNight</td>\n",
       "      <td>Clear</td>\n",
       "      <td>Low: 52 °F</td>\n",
       "      <td>Friday Night: Clear, with a low around 52. Wes...</td>\n",
       "    </tr>\n",
       "    <tr>\n",
       "      <th>8</th>\n",
       "      <td>Saturday</td>\n",
       "      <td>Sunny</td>\n",
       "      <td>High: 96 °F</td>\n",
       "      <td>Saturday: Sunny, with a high near 96. Southwes...</td>\n",
       "    </tr>\n",
       "  </tbody>\n",
       "</table>\n",
       "</div>"
      ],
      "text/plain": [
       "          Período                 Minidescrição  Temperatura  \\\n",
       "0           Today                         Sunny  High: 95 °F   \n",
       "1         Tonight                 Partly Cloudy   Low: 62 °F   \n",
       "2       Wednesday  Sunny thenPatchyBlowing Dust  High: 99 °F   \n",
       "3  WednesdayNight                 Partly Cloudy   Low: 58 °F   \n",
       "4        Thursday                  Partly Sunny  High: 92 °F   \n",
       "5   ThursdayNight                         Clear   Low: 53 °F   \n",
       "6          Friday                         Sunny  High: 94 °F   \n",
       "7     FridayNight                         Clear   Low: 52 °F   \n",
       "8        Saturday                         Sunny  High: 96 °F   \n",
       "\n",
       "                                           Descrição  \n",
       "0  Today: Sunny, with a high near 95. East southe...  \n",
       "1  Tonight: Partly cloudy, with a low around 62. ...  \n",
       "2  Wednesday: Patchy blowing dust after noon. Sun...  \n",
       "3  Wednesday Night: Partly cloudy, with a low aro...  \n",
       "4  Thursday: Partly sunny, with a high near 92. W...  \n",
       "5  Thursday Night: Clear, with a low around 53. W...  \n",
       "6  Friday: Sunny, with a high near 94. West north...  \n",
       "7  Friday Night: Clear, with a low around 52. Wes...  \n",
       "8  Saturday: Sunny, with a high near 96. Southwes...  "
      ]
     },
     "execution_count": 26,
     "metadata": {},
     "output_type": "execute_result"
    }
   ],
   "source": [
    "df_clima_tempo = pd.DataFrame({\n",
    "    \"Período\": periods,\n",
    "    \"Minidescrição\": short_descs,\n",
    "    \"Temperatura\": temps,\n",
    "    \"Descrição\":descs\n",
    "})\n",
    "df_clima_tempo"
   ]
  },
  {
   "cell_type": "markdown",
   "metadata": {},
   "source": [
    "Com a tabela anterior, podemos fazer a análise do clima em uma cidade, incluindo as brasileiras."
   ]
  },
  {
   "cell_type": "markdown",
   "metadata": {},
   "source": [
    "**Desafio**"
   ]
  },
  {
   "cell_type": "markdown",
   "metadata": {},
   "source": [
    "Podemos utilizar [expressões regulares](https://pt.wikipedia.org/wiki/Express%C3%A3o_regular) e o método Series.str.extract para extrair o valor numérico das temperaturas. Esta [página](http://turing.com.br/material/regex/introducao.html) oferece uma introdução sobre o tópico."
   ]
  },
  {
   "cell_type": "code",
   "execution_count": null,
   "metadata": {},
   "outputs": [],
   "source": [
    "df_clima_tempo[\"Temperatura\"]"
   ]
  },
  {
   "cell_type": "markdown",
   "metadata": {},
   "source": [
    "Utilizamos o método [Series.str.extract](https://pandas.pydata.org/pandas-docs/stable/reference/api/pandas.Series.str.extract.html), que utiliza expressões regulares para extrair padrões do texto."
   ]
  },
  {
   "cell_type": "code",
   "execution_count": null,
   "metadata": {},
   "outputs": [],
   "source": [
    "# Neste caso, a expressão regular para extrair os digitos da string \n",
    "temp_nums = df_clima_tempo[\"Temperatura\"].str.extract(r\"(\\d+)\", expand=False)\n",
    "temp_nums"
   ]
  },
  {
   "cell_type": "code",
   "execution_count": null,
   "metadata": {},
   "outputs": [],
   "source": [
    "# O tipo resultante de Series.str.extract\n",
    "type(temp_nums)"
   ]
  },
  {
   "cell_type": "code",
   "execution_count": null,
   "metadata": {},
   "outputs": [],
   "source": [
    "# Converte os valores da coluna temp_num em inteiro\n",
    "df_clima_tempo[\"Temperatura\"] = temp_nums.astype('int')\n",
    "df_clima_tempo[\"Temperatura\"]"
   ]
  },
  {
   "cell_type": "code",
   "execution_count": null,
   "metadata": {},
   "outputs": [],
   "source": [
    "df_clima_tempo"
   ]
  },
  {
   "cell_type": "markdown",
   "metadata": {},
   "source": [
    "Calcula a média para as temperaturas altas e baixas. "
   ]
  },
  {
   "cell_type": "code",
   "execution_count": null,
   "metadata": {},
   "outputs": [],
   "source": [
    "df_clima_tempo[\"Temperatura\"].mean()"
   ]
  },
  {
   "cell_type": "markdown",
   "metadata": {},
   "source": [
    "### Novo Exemplo"
   ]
  },
  {
   "cell_type": "code",
   "execution_count": null,
   "metadata": {},
   "outputs": [],
   "source": [
    "nova_url = \"https://www.tempo.com/sao-paulo-proxima-semana.htm\"\n",
    "pag = requests.get(nova_url)\n",
    "soup = BeautifulSoup(pag.content, 'html.parser')"
   ]
  },
  {
   "cell_type": "code",
   "execution_count": null,
   "metadata": {},
   "outputs": [],
   "source": [
    "next_week = soup.find(class_=\"datos-dos-semanas\")\n",
    "print(next_week.prettify())"
   ]
  },
  {
   "cell_type": "code",
   "execution_count": null,
   "metadata": {},
   "outputs": [],
   "source": [
    "pred = next_week.find(class_=\"prediccion\")\n",
    "print(pred.prettify())"
   ]
  }
 ],
 "metadata": {
  "kernelspec": {
   "display_name": "Python 3 (ipykernel)",
   "language": "python",
   "name": "python3"
  },
  "language_info": {
   "codemirror_mode": {
    "name": "ipython",
    "version": 3
   },
   "file_extension": ".py",
   "mimetype": "text/x-python",
   "name": "python",
   "nbconvert_exporter": "python",
   "pygments_lexer": "ipython3",
   "version": "3.9.7"
  }
 },
 "nbformat": 4,
 "nbformat_minor": 4
}
